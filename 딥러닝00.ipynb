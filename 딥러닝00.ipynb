{
  "nbformat": 4,
  "nbformat_minor": 0,
  "metadata": {
    "colab": {
      "name": "딥러닝00.ipynb",
      "provenance": [],
      "collapsed_sections": [],
      "authorship_tag": "ABX9TyOUt7hrr0dLi98rCnIvcSEj",
      "include_colab_link": true
    },
    "kernelspec": {
      "name": "python3",
      "display_name": "Python 3"
    }
  },
  "cells": [
    {
      "cell_type": "markdown",
      "metadata": {
        "id": "view-in-github",
        "colab_type": "text"
      },
      "source": [
        "<a href=\"https://colab.research.google.com/github/clappingmin/deeplearning/blob/master/%EB%94%A5%EB%9F%AC%EB%8B%9D00.ipynb\" target=\"_parent\"><img src=\"https://colab.research.google.com/assets/colab-badge.svg\" alt=\"Open In Colab\"/></a>"
      ]
    },
    {
      "cell_type": "code",
      "metadata": {
        "id": "IsGtgRkkHzYz",
        "colab_type": "code",
        "colab": {
          "base_uri": "https://localhost:8080/",
          "height": 34
        },
        "outputId": "aef7ecb5-83c2-4782-dcb4-7c9048f2deed"
      },
      "source": [
        "print(\"hello world\")"
      ],
      "execution_count": 79,
      "outputs": [
        {
          "output_type": "stream",
          "text": [
            "hello world\n"
          ],
          "name": "stdout"
        }
      ]
    },
    {
      "cell_type": "code",
      "metadata": {
        "id": "8lleO5nYIBh-",
        "colab_type": "code",
        "colab": {
          "base_uri": "https://localhost:8080/",
          "height": 87
        },
        "outputId": "dfd9a20e-024b-4a63-a5b9-ed2a30b0663c"
      },
      "source": [
        "# 0 0 => 0\n",
        "# 0 1 => 0\n",
        "# 1 0 => 0\n",
        "# 1 1 => 1\n",
        "\n",
        "def AND(x1,x2):\n",
        "  if x1 == 0 and x2 == 0:\n",
        "    return 0\n",
        "  if x1 == 0 and x2 == 1:\n",
        "    return 0\n",
        "  if x1 == 1 and x2 == 0:\n",
        "    return 0\n",
        "  if x1 == 1 and x2 == 1:\n",
        "    return 1\n",
        "\n",
        "x= [(0,0),(0,1),(1,0),(1,1)]\n",
        "for i in x:\n",
        "  print('{} => {}'.format(i,AND(i[0],i[1])))"
      ],
      "execution_count": 17,
      "outputs": [
        {
          "output_type": "stream",
          "text": [
            "(0, 0) => 0\n",
            "(0, 1) => 0\n",
            "(1, 0) => 0\n",
            "(1, 1) => 1\n"
          ],
          "name": "stdout"
        }
      ]
    },
    {
      "cell_type": "code",
      "metadata": {
        "id": "XP8ClEOXIxyP",
        "colab_type": "code",
        "colab": {
          "base_uri": "https://localhost:8080/",
          "height": 87
        },
        "outputId": "ac49312e-3e74-4233-839f-ca948dbcb12a"
      },
      "source": [
        "def AND1(x1,x2):\n",
        "  w1,w2, th = 0.5,0.5,0.7 #th : 임계값\n",
        "  tmp = x1*w1+x2*w2\n",
        "\n",
        "  if (tmp<=th):\n",
        "    return 0\n",
        "  else:\n",
        "    return 1\n",
        "\n",
        "x= [(0,0),(0,1),(1,0),(1,1)]\n",
        "for i in x:\n",
        "  print('{} => {}'.format(i,AND1(i[0],i[1])))"
      ],
      "execution_count": 20,
      "outputs": [
        {
          "output_type": "stream",
          "text": [
            "(0, 0) => 0\n",
            "(0, 1) => 0\n",
            "(1, 0) => 0\n",
            "(1, 1) => 1\n"
          ],
          "name": "stdout"
        }
      ]
    },
    {
      "cell_type": "code",
      "metadata": {
        "id": "B-bsIkNwKSc_",
        "colab_type": "code",
        "colab": {
          "base_uri": "https://localhost:8080/",
          "height": 87
        },
        "outputId": "6da518f0-9239-4106-a970-25b72432d96d"
      },
      "source": [
        "import numpy as np\n",
        "\n",
        "def AND2(x1,x2):\n",
        "  x= np.array([x1,x2])\n",
        "  w= np.array([0.5,0.5])\n",
        "  b = -0.7\n",
        "\n",
        "  tmp = np.sum(w*x)+b\n",
        "  if tmp<=0:\n",
        "    return 0\n",
        "  else:\n",
        "    return 1\n",
        "\n",
        "x= [(0,0),(0,1),(1,0),(1,1)]\n",
        "for i in x:\n",
        "  print('{} => {}'.format(i,AND2(i[0],i[1])))"
      ],
      "execution_count": 24,
      "outputs": [
        {
          "output_type": "stream",
          "text": [
            "(0, 0) => 0\n",
            "(0, 1) => 0\n",
            "(1, 0) => 0\n",
            "(1, 1) => 1\n"
          ],
          "name": "stdout"
        }
      ]
    },
    {
      "cell_type": "code",
      "metadata": {
        "id": "mPTzgZs4PHlm",
        "colab_type": "code",
        "colab": {
          "base_uri": "https://localhost:8080/",
          "height": 87
        },
        "outputId": "47481431-0e0e-4d65-ba88-73865b0a603e"
      },
      "source": [
        "def NAND(x1,x2):\n",
        "  x= np.array([x1,x2])\n",
        "  w= np.array([-0.5,-0.5])\n",
        "  b = 0.7\n",
        "\n",
        "  tmp = np.sum(w*x)+b\n",
        "  if tmp<=0:\n",
        "    return 0\n",
        "  else:\n",
        "    return 1\n",
        "\n",
        "x= [(0,0),(0,1),(1,0),(1,1)]\n",
        "for i in x:\n",
        "  print('{} => {}'.format(i,NAND(i[0],i[1])))"
      ],
      "execution_count": 27,
      "outputs": [
        {
          "output_type": "stream",
          "text": [
            "(0, 0) => 1\n",
            "(0, 1) => 1\n",
            "(1, 0) => 1\n",
            "(1, 1) => 0\n"
          ],
          "name": "stdout"
        }
      ]
    },
    {
      "cell_type": "code",
      "metadata": {
        "id": "XhamuLIqQJbs",
        "colab_type": "code",
        "colab": {
          "base_uri": "https://localhost:8080/",
          "height": 87
        },
        "outputId": "73fc32ea-775c-4985-f778-8d7bd228ee4b"
      },
      "source": [
        "def OR(x1,x2):\n",
        "  x= np.array([x1,x2])\n",
        "  w= np.array([0.5,0.5])\n",
        "  b = -0.2\n",
        "\n",
        "  tmp = np.sum(w*x)+b\n",
        "  if tmp<=0:\n",
        "    return 0\n",
        "  else:\n",
        "    return 1\n",
        "\n",
        "x= [(0,0),(0,1),(1,0),(1,1)]\n",
        "for i in x:\n",
        "  print('{} => {}'.format(i,OR(i[0],i[1])))"
      ],
      "execution_count": 28,
      "outputs": [
        {
          "output_type": "stream",
          "text": [
            "(0, 0) => 0\n",
            "(0, 1) => 1\n",
            "(1, 0) => 1\n",
            "(1, 1) => 1\n"
          ],
          "name": "stdout"
        }
      ]
    },
    {
      "cell_type": "code",
      "metadata": {
        "id": "XKZVT6H1L9eS",
        "colab_type": "code",
        "colab": {
          "base_uri": "https://localhost:8080/",
          "height": 87
        },
        "outputId": "404d1a11-b090-4c22-a879-c7afffedc7f2"
      },
      "source": [
        "def XOR(x1,x2):\n",
        "  s1=NAND(x1,x2)\n",
        "  s2=OR(x1,x2)\n",
        "  y=AND(s1,s2)\n",
        "\n",
        "  return y\n",
        "\n",
        "x= [(0,0),(0,1),(1,0),(1,1)]\n",
        "for i in x:\n",
        "  print('{} => {}'.format(i,XOR(i[0],i[1])))"
      ],
      "execution_count": 30,
      "outputs": [
        {
          "output_type": "stream",
          "text": [
            "(0, 0) => 0\n",
            "(0, 1) => 1\n",
            "(1, 0) => 1\n",
            "(1, 1) => 0\n"
          ],
          "name": "stdout"
        }
      ]
    },
    {
      "cell_type": "code",
      "metadata": {
        "id": "0c4L7v5ZPGjD",
        "colab_type": "code",
        "colab": {
          "base_uri": "https://localhost:8080/",
          "height": 265
        },
        "outputId": "3182dd07-a9ab-4f99-ad96-cd400f5651ec"
      },
      "source": [
        "#균등(균일)분포\n",
        "\n",
        "import tensorflow as tf\n",
        "import matplotlib.pyplot as plt\n",
        "\n",
        "tf.__version__\n",
        "\n",
        "#균일 분포로 0~1 범위의 10000개 랜덤값 생성\n",
        "random_uniform = tf.random.uniform([10000],minval=0,maxval=1)\n",
        "plt.hist(random_uniform,bins=100)\n",
        "plt.show()"
      ],
      "execution_count": 44,
      "outputs": [
        {
          "output_type": "display_data",
          "data": {
            "image/png": "[encoded data removed]",
            "text/plain": [
              "<Figure size 432x288 with 1 Axes>"
            ]
          },
          "metadata": {
            "tags": [],
            "needs_background": "light"
          }
        }
      ]
    },
    {
      "cell_type": "code",
      "metadata": {
        "id": "kEh_K_wcRZLq",
        "colab_type": "code",
        "colab": {
          "base_uri": "https://localhost:8080/",
          "height": 265
        },
        "outputId": "60f86683-c835-48e6-c83b-8bf40b066403"
      },
      "source": [
        "#정규분포\n",
        "#균등(균일)분포\n",
        "\n",
        "import tensorflow as tf\n",
        "import matplotlib.pyplot as plt\n",
        "\n",
        "random_normal = tf.random.normal([10000],mean=0,stddev=1)\n",
        "plt.hist(random_normal,bins=100)\n",
        "plt.show()"
      ],
      "execution_count": 42,
      "outputs": [
        {
          "output_type": "display_data",
          "data": {
            "image/png": "[encoded data removed]",
            "text/plain": [
              "<Figure size 432x288 with 1 Axes>"
            ]
          },
          "metadata": {
            "tags": [],
            "needs_background": "light"
          }
        }
      ]
    },
    {
      "cell_type": "code",
      "metadata": {
        "id": "zCtOYY86S2GS",
        "colab_type": "code",
        "colab": {
          "base_uri": "https://localhost:8080/",
          "height": 281
        },
        "outputId": "ec7051a5-cb5d-4ba4-d1ac-5ec9a3f107c6"
      },
      "source": [
        "# 활성화 함수 sigmoid\n",
        "\n",
        "import numpy as np\n",
        "import matplotlib.pyplot as plt\n",
        "\n",
        "def sigmoid(x):\n",
        "  return 1/(1+np.exp(-x))\n",
        "\n",
        "x=np.arange(-5.0,5.0,0.1)\n",
        "y=sigmoid(x)\n",
        "\n",
        "plt.plot(x,y)\n",
        "plt.title('sigmoid')\n",
        "plt.show()"
      ],
      "execution_count": 50,
      "outputs": [
        {
          "output_type": "display_data",
          "data": {
            "image/png": "[encoded data removed]",
            "text/plain": [
              "<Figure size 432x288 with 1 Axes>"
            ]
          },
          "metadata": {
            "tags": [],
            "needs_background": "light"
          }
        }
      ]
    },
    {
      "cell_type": "code",
      "metadata": {
        "id": "QNFOFNCzXSoo",
        "colab_type": "code",
        "colab": {
          "base_uri": "https://localhost:8080/",
          "height": 281
        },
        "outputId": "29f0e3d5-d28b-4337-ed9d-7746093868d9"
      },
      "source": [
        "# 활성화 함수 relu\n",
        "\n",
        "import numpy as np\n",
        "import matplotlib.pyplot as plt\n",
        "\n",
        "def relu(x):\n",
        "  return np.maximum(0,x)\n",
        "\n",
        "x=np.arange(-5.0,5.0,0.1)\n",
        "y=relu(x)\n",
        "\n",
        "plt.plot(x,y)\n",
        "plt.title('relu')\n",
        "plt.show()"
      ],
      "execution_count": 55,
      "outputs": [
        {
          "output_type": "display_data",
          "data": {
            "image/png": "[encoded data removed]",
            "text/plain": [
              "<Figure size 432x288 with 1 Axes>"
            ]
          },
          "metadata": {
            "tags": [],
            "needs_background": "light"
          }
        }
      ]
    },
    {
      "cell_type": "code",
      "metadata": {
        "id": "0_F9xhaVYiDx",
        "colab_type": "code",
        "colab": {
          "base_uri": "https://localhost:8080/",
          "height": 281
        },
        "outputId": "c9581ad0-1ece-49ac-9691-28dca4fdecb5"
      },
      "source": [
        "# 활성화 함수 tanh\n",
        "\n",
        "import numpy as np\n",
        "import math\n",
        "import matplotlib.pyplot as plt\n",
        "\n",
        "x=np.arange(-5.0,5.0,0.1)\n",
        "y = [math.tanh(z) for z in x]\n",
        "\n",
        "\n",
        "plt.plot(x,y)\n",
        "plt.title('tanh')\n",
        "plt.show()"
      ],
      "execution_count": 57,
      "outputs": [
        {
          "output_type": "display_data",
          "data": {
            "image/png": "[encoded data removed]",
            "text/plain": [
              "<Figure size 432x288 with 1 Axes>"
            ]
          },
          "metadata": {
            "tags": [],
            "needs_background": "light"
          }
        }
      ]
    },
    {
      "cell_type": "code",
      "metadata": {
        "id": "GR6XNAhZZLD4",
        "colab_type": "code",
        "colab": {
          "base_uri": "https://localhost:8080/",
          "height": 1000
        },
        "outputId": "740944d0-c0f8-4b4e-bcc7-11c8defdf99a"
      },
      "source": [
        "#경사하강법\n",
        "\n",
        "import tensorflow as tf\n",
        "\n",
        "x = 1 # 입력값\n",
        "y = 0 # 출력값\n",
        "\n",
        "#랜덤한 시작값\n",
        "w = tf.random.normal([1],mean=0,stddev=1)\n",
        "\n",
        "for i in range(10000):\n",
        "  output= sigmoid(x*w)\n",
        "  error = y-output\n",
        "  w=w+x*0.1*error #0.1 : 학습률\n",
        "\n",
        "  if i % 100 == 99:\n",
        "    print(f\"{i}, {error}, {output}\")"
      ],
      "execution_count": 65,
      "outputs": [
        {
          "output_type": "stream",
          "text": [
            "99, [-0.11998609], [0.11998609]\n",
            "199, [-0.05695611], [0.05695611]\n",
            "299, [-0.03686885], [0.03686885]\n",
            "399, [-0.02715712], [0.02715712]\n",
            "499, [-0.02146228], [0.02146228]\n",
            "599, [-0.01772799], [0.01772799]\n",
            "699, [-0.01509376], [0.01509376]\n",
            "799, [-0.01313738], [0.01313738]\n",
            "899, [-0.01162773], [0.01162773]\n",
            "999, [-0.01042789], [0.01042789]\n",
            "1099, [-0.0094516], [0.0094516]\n",
            "1199, [-0.00864183], [0.00864183]\n",
            "1299, [-0.00795942], [0.00795942]\n",
            "1399, [-0.00737657], [0.00737657]\n",
            "1499, [-0.00687303], [0.00687303]\n",
            "1599, [-0.00643364], [0.00643364]\n",
            "1699, [-0.00604691], [0.00604691]\n",
            "1799, [-0.00570392], [0.00570392]\n",
            "1899, [-0.00539767], [0.00539767]\n",
            "1999, [-0.00512255], [0.00512255]\n",
            "2099, [-0.00487405], [0.00487405]\n",
            "2199, [-0.00464851], [0.00464851]\n",
            "2299, [-0.00444287], [0.00444287]\n",
            "2399, [-0.00425462], [0.00425462]\n",
            "2499, [-0.00408165], [0.00408165]\n",
            "2599, [-0.00392217], [0.00392217]\n",
            "2699, [-0.00377466], [0.00377466]\n",
            "2799, [-0.00363783], [0.00363783]\n",
            "2899, [-0.00351055], [0.00351055]\n",
            "2999, [-0.00339187], [0.00339187]\n",
            "3099, [-0.00328093], [0.00328093]\n",
            "3199, [-0.00317702], [0.00317702]\n",
            "3299, [-0.00307948], [0.00307948]\n",
            "3399, [-0.00298774], [0.00298774]\n",
            "3499, [-0.00290129], [0.00290129]\n",
            "3599, [-0.00281971], [0.00281971]\n",
            "3699, [-0.00274258], [0.00274258]\n",
            "3799, [-0.00266955], [0.00266955]\n",
            "3899, [-0.00260031], [0.00260031]\n",
            "3999, [-0.00253456], [0.00253456]\n",
            "4099, [-0.00247206], [0.00247206]\n",
            "4199, [-0.00241256], [0.00241256]\n",
            "4299, [-0.00235585], [0.00235585]\n",
            "4399, [-0.00230174], [0.00230174]\n",
            "4499, [-0.00225006], [0.00225006]\n",
            "4599, [-0.00220065], [0.00220065]\n",
            "4699, [-0.00215336], [0.00215336]\n",
            "4799, [-0.00210806], [0.00210806]\n",
            "4899, [-0.00206463], [0.00206463]\n",
            "4999, [-0.00202294], [0.00202294]\n",
            "5099, [-0.0019829], [0.0019829]\n",
            "5199, [-0.00194442], [0.00194442]\n",
            "5299, [-0.0019074], [0.0019074]\n",
            "5399, [-0.00187176], [0.00187176]\n",
            "5499, [-0.00183743], [0.00183743]\n",
            "5599, [-0.00180434], [0.00180434]\n",
            "5699, [-0.00177241], [0.00177241]\n",
            "5799, [-0.0017416], [0.0017416]\n",
            "5899, [-0.00171183], [0.00171183]\n",
            "5999, [-0.00168307], [0.00168307]\n",
            "6099, [-0.00165525], [0.00165525]\n",
            "6199, [-0.00162834], [0.00162834]\n",
            "6299, [-0.00160229], [0.00160229]\n",
            "6399, [-0.00157706], [0.00157706]\n",
            "6499, [-0.00155261], [0.00155261]\n",
            "6599, [-0.00152891], [0.00152891]\n",
            "6699, [-0.00150592], [0.00150592]\n",
            "6799, [-0.00148361], [0.00148361]\n",
            "6899, [-0.00146195], [0.00146195]\n",
            "6999, [-0.00144091], [0.00144091]\n",
            "7099, [-0.00142047], [0.00142047]\n",
            "7199, [-0.0014006], [0.0014006]\n",
            "7299, [-0.00138128], [0.00138128]\n",
            "7399, [-0.00136249], [0.00136249]\n",
            "7499, [-0.0013442], [0.0013442]\n",
            "7599, [-0.00132639], [0.00132639]\n",
            "7699, [-0.00130905], [0.00130905]\n",
            "7799, [-0.00129216], [0.00129216]\n",
            "7899, [-0.00127569], [0.00127569]\n",
            "7999, [-0.00125964], [0.00125964]\n",
            "8099, [-0.00124399], [0.00124399]\n",
            "8199, [-0.00122872], [0.00122872]\n",
            "8299, [-0.00121382], [0.00121382]\n",
            "8399, [-0.00119928], [0.00119928]\n",
            "8499, [-0.00118509], [0.00118509]\n",
            "8599, [-0.00117122], [0.00117122]\n",
            "8699, [-0.00115768], [0.00115768]\n",
            "8799, [-0.00114445], [0.00114445]\n",
            "8899, [-0.00113151], [0.00113151]\n",
            "8999, [-0.00111886], [0.00111886]\n",
            "9099, [-0.0011065], [0.0011065]\n",
            "9199, [-0.0010944], [0.0010944]\n",
            "9299, [-0.00108256], [0.00108256]\n",
            "9399, [-0.00107098], [0.00107098]\n",
            "9499, [-0.00105964], [0.00105964]\n",
            "9599, [-0.00104855], [0.00104855]\n",
            "9699, [-0.00103767], [0.00103767]\n",
            "9799, [-0.00102703], [0.00102703]\n",
            "9899, [-0.0010166], [0.0010166]\n",
            "9999, [-0.00100638], [0.00100638]\n"
          ],
          "name": "stdout"
        }
      ]
    },
    {
      "cell_type": "code",
      "metadata": {
        "id": "wOzIio5zbiUw",
        "colab_type": "code",
        "colab": {
          "base_uri": "https://localhost:8080/",
          "height": 1000
        },
        "outputId": "f146d3da-ea0d-46d8-8b9a-43d99b99d3ff"
      },
      "source": [
        "#경사하강법\n",
        "\n",
        "import tensorflow as tf\n",
        "\n",
        "x = 0 # 입력값\n",
        "y = 1 # 출력값\n",
        "\n",
        "#가중치 : 랜덤한 시작값\n",
        "w = tf.random.normal([1],mean=0,stddev=1)\n",
        "\n",
        "#편항 : 랜덤한 시작값\n",
        "b = tf.random.normal([1],mean=0,stddev=1)\n",
        "\n",
        "for i in range(10000):\n",
        "  output= sigmoid(x * w + 1 * b)\n",
        "  error = y - output\n",
        "  w=w + x * 0.1 * error\n",
        "  b=b + 1 * 0.1 * error\n",
        "\n",
        "  if i % 100 == 99:\n",
        "    print(f\"{i}, {error}, {output}\")\n",
        "\n",
        "  # w,b : 최적의 값"
      ],
      "execution_count": 69,
      "outputs": [
        {
          "output_type": "stream",
          "text": [
            "99, [0.08399671], [0.9160033]\n",
            "199, [0.04692107], [0.9530789]\n",
            "299, [0.03231752], [0.9676825]\n",
            "399, [0.02458501], [0.975415]\n",
            "499, [0.0198155], [0.9801845]\n",
            "599, [0.01658565], [0.98341435]\n",
            "699, [0.0142557], [0.9857443]\n",
            "799, [0.01249677], [0.98750323]\n",
            "899, [0.01112241], [0.9888776]\n",
            "999, [0.01001924], [0.98998076]\n",
            "1099, [0.00911433], [0.9908857]\n",
            "1199, [0.00835884], [0.99164116]\n",
            "1299, [0.00771862], [0.9922814]\n",
            "1399, [0.00716907], [0.99283093]\n",
            "1499, [0.00669247], [0.99330753]\n",
            "1599, [0.00627512], [0.9937249]\n",
            "1699, [0.00590664], [0.99409336]\n",
            "1799, [0.00557894], [0.99442106]\n",
            "1899, [0.00528556], [0.99471444]\n",
            "1999, [0.00502139], [0.9949786]\n",
            "2099, [0.00478244], [0.99521756]\n",
            "2199, [0.00456506], [0.99543494]\n",
            "2299, [0.00436658], [0.9956334]\n",
            "2399, [0.00418454], [0.99581546]\n",
            "2499, [0.00401711], [0.9959829]\n",
            "2599, [0.00386256], [0.99613744]\n",
            "2699, [0.00371939], [0.9962806]\n",
            "2799, [0.00358647], [0.9964135]\n",
            "2899, [0.00346267], [0.9965373]\n",
            "2999, [0.0033471], [0.9966529]\n",
            "3099, [0.0032391], [0.9967609]\n",
            "3199, [0.00313771], [0.9968623]\n",
            "3299, [0.00304258], [0.9969574]\n",
            "3399, [0.00295299], [0.997047]\n",
            "3499, [0.00286853], [0.99713147]\n",
            "3599, [0.00278872], [0.9972113]\n",
            "3699, [0.00271332], [0.9972867]\n",
            "3799, [0.00264186], [0.99735814]\n",
            "3899, [0.00257403], [0.997426]\n",
            "3999, [0.00250947], [0.9974905]\n",
            "4099, [0.00244826], [0.99755174]\n",
            "4199, [0.00238979], [0.9976102]\n",
            "4299, [0.00233412], [0.9976659]\n",
            "4399, [0.00228113], [0.9977189]\n",
            "4499, [0.00223029], [0.9977697]\n",
            "4599, [0.00218177], [0.99781823]\n",
            "4699, [0.00213522], [0.9978648]\n",
            "4799, [0.00209075], [0.99790925]\n",
            "4899, [0.00204796], [0.99795204]\n",
            "4999, [0.00200689], [0.9979931]\n",
            "5099, [0.00196749], [0.9980325]\n",
            "5199, [0.00192958], [0.9980704]\n",
            "5299, [0.00189316], [0.99810684]\n",
            "5399, [0.00185812], [0.9981419]\n",
            "5499, [0.00182426], [0.99817574]\n",
            "5599, [0.0017916], [0.9982084]\n",
            "5699, [0.00176013], [0.9982399]\n",
            "5799, [0.00172973], [0.9982703]\n",
            "5899, [0.00170034], [0.99829966]\n",
            "5999, [0.00167197], [0.99832803]\n",
            "6099, [0.00164455], [0.99835545]\n",
            "6199, [0.00161791], [0.9983821]\n",
            "6299, [0.00159222], [0.9984078]\n",
            "6399, [0.0015673], [0.9984327]\n",
            "6499, [0.00154316], [0.99845684]\n",
            "6599, [0.00151974], [0.99848026]\n",
            "6699, [0.00149703], [0.99850297]\n",
            "6799, [0.00147492], [0.9985251]\n",
            "6899, [0.00145358], [0.9985464]\n",
            "6999, [0.00143278], [0.9985672]\n",
            "7099, [0.00141251], [0.9985875]\n",
            "7199, [0.0013929], [0.9986071]\n",
            "7299, [0.00137377], [0.99862623]\n",
            "7399, [0.00135523], [0.99864477]\n",
            "7499, [0.00133705], [0.99866295]\n",
            "7599, [0.00131947], [0.99868053]\n",
            "7699, [0.00130236], [0.99869764]\n",
            "7799, [0.00128555], [0.99871445]\n",
            "7899, [0.00126928], [0.9987307]\n",
            "7999, [0.00125349], [0.9987465]\n",
            "8099, [0.00123787], [0.99876213]\n",
            "8199, [0.00122279], [0.9987772]\n",
            "8299, [0.00120801], [0.998792]\n",
            "8399, [0.00119364], [0.99880636]\n",
            "8499, [0.00117964], [0.99882036]\n",
            "8599, [0.00116581], [0.9988342]\n",
            "8699, [0.0011524], [0.9988476]\n",
            "8799, [0.00113928], [0.9988607]\n",
            "8899, [0.00112647], [0.99887353]\n",
            "8999, [0.00111395], [0.99888605]\n",
            "9099, [0.00110173], [0.99889827]\n",
            "9199, [0.00108969], [0.9989103]\n",
            "9299, [0.00107789], [0.9989221]\n",
            "9399, [0.00106651], [0.9989335]\n",
            "9499, [0.00105518], [0.9989448]\n",
            "9599, [0.00104427], [0.9989557]\n",
            "9699, [0.00103343], [0.9989666]\n",
            "9799, [0.00102282], [0.9989772]\n",
            "9899, [0.0010125], [0.9989875]\n",
            "9999, [0.00100237], [0.9989976]\n"
          ],
          "name": "stdout"
        }
      ]
    },
    {
      "cell_type": "code",
      "metadata": {
        "id": "jqG2wnZ1d5Ix",
        "colab_type": "code",
        "colab": {
          "base_uri": "https://localhost:8080/",
          "height": 193
        },
        "outputId": "e1ba321f-fa74-45a1-a97c-0fb25b5767c4"
      },
      "source": [
        "import numpy as np\n",
        "\n",
        "x = np.array([[1,1],[1,0],[0,1],[0,0]]) # 입력값\n",
        "y = np.array([[1],[0],[0],[0]])         # 결과값\n",
        "\n",
        "#가중치 : 랜덤한 시작값\n",
        "w = tf.random.normal([2],mean=0,stddev=1)\n",
        "#편항 : 랜덤한 시작값\n",
        "b = tf.random.normal([1],mean=0,stddev=1)\n",
        "\n",
        "for i in range(2000):\n",
        "  error_sum = 0\n",
        "\n",
        "  for j in range(4): #입력항목이 4개\n",
        "    sum = np.sum(x[j]*w)\n",
        "    output = sigmoid(sum + 1 * b)\n",
        "    w= w + x[j] * 0.1 * error # 0.1 : 학습률\n",
        "    b= b + 1 *0.1 * error     # 0.1 : 학습률\n",
        "\n",
        "  if i%200 == 199 :\n",
        "    print(f\"{i}, {error}, {output}\")"
      ],
      "execution_count": 78,
      "outputs": [
        {
          "output_type": "stream",
          "text": [
            "199, [0.00100237], [0.18766242]\n",
            "399, [0.00100237], [0.20019642]\n",
            "599, [0.00100237], [0.21334767]\n",
            "799, [0.00100237], [0.22711755]\n",
            "999, [0.00100237], [0.24150331]\n",
            "1199, [0.00100237], [0.2564979]\n",
            "1399, [0.00100237], [0.27208948]\n",
            "1599, [0.00100237], [0.28826135]\n",
            "1799, [0.00100237], [0.30499172]\n",
            "1999, [0.00100237], [0.32225344]\n"
          ],
          "name": "stdout"
        }
      ]
    },
    {
      "cell_type": "code",
      "metadata": {
        "id": "i2MWbVqLgKqG",
        "colab_type": "code",
        "colab": {}
      },
      "source": [
        ""
      ],
      "execution_count": null,
      "outputs": []
    }
  ]
}